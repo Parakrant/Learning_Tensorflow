{
  "nbformat": 4,
  "nbformat_minor": 0,
  "metadata": {
    "colab": {
      "name": "S+P_Week_2_Exercise_Question.ipynb",
      "provenance": [],
      "toc_visible": true
    },
    "kernelspec": {
      "display_name": "Python 3",
      "name": "python3"
    },
    "accelerator": "GPU"
  },
  "cells": [
    {
      "cell_type": "code",
      "metadata": {
        "id": "zX4Kg8DUTKWO",
        "colab_type": "code",
        "colab": {}
      },
      "source": [
        "#@title Licensed under the Apache License, Version 2.0 (the \"License\");\n",
        "# you may not use this file except in compliance with the License.\n",
        "# You may obtain a copy of the License at\n",
        "#\n",
        "# https://www.apache.org/licenses/LICENSE-2.0\n",
        "#\n",
        "# Unless required by applicable law or agreed to in writing, software\n",
        "# distributed under the License is distributed on an \"AS IS\" BASIS,\n",
        "# WITHOUT WARRANTIES OR CONDITIONS OF ANY KIND, either express or implied.\n",
        "# See the License for the specific language governing permissions and\n",
        "# limitations under the License."
      ],
      "execution_count": 6,
      "outputs": []
    },
    {
      "cell_type": "code",
      "metadata": {
        "cellView": "both",
        "colab_type": "code",
        "id": "D1J15Vh_1Jih",
        "colab": {
          "base_uri": "https://localhost:8080/",
          "height": 50
        },
        "outputId": "880da1c6-b5c5-4668-bb0d-5942f772d672"
      },
      "source": [
        "!pip install tf-nightly-2.0-preview\n"
      ],
      "execution_count": 6,
      "outputs": [
        {
          "output_type": "stream",
          "text": [
            "\u001b[31mERROR: Could not find a version that satisfies the requirement tf-nightly-2.0-preview (from versions: none)\u001b[0m\n",
            "\u001b[31mERROR: No matching distribution found for tf-nightly-2.0-preview\u001b[0m\n"
          ],
          "name": "stdout"
        }
      ]
    },
    {
      "cell_type": "code",
      "metadata": {
        "colab_type": "code",
        "id": "BOjujz601HcS",
        "colab": {
          "base_uri": "https://localhost:8080/",
          "height": 34
        },
        "outputId": "814eca0d-b79a-46f1-f7ed-5c364651e316"
      },
      "source": [
        "import tensorflow as tf\n",
        "import numpy as np\n",
        "import matplotlib.pyplot as plt\n",
        "print(tf.__version__)"
      ],
      "execution_count": 7,
      "outputs": [
        {
          "output_type": "stream",
          "text": [
            "2.3.0\n"
          ],
          "name": "stdout"
        }
      ]
    },
    {
      "cell_type": "code",
      "metadata": {
        "colab_type": "code",
        "id": "Zswl7jRtGzkk",
        "colab": {
          "base_uri": "https://localhost:8080/",
          "height": 279
        },
        "outputId": "fc4d7fa3-5fe3-45b8-dc4f-28d6d7119ed9"
      },
      "source": [
        "def plot_series(time, series, format=\"-\", start=0, end=None):\n",
        "    plt.plot(time[start:end], series[start:end], format)\n",
        "    plt.xlabel(\"Time\")\n",
        "    plt.ylabel(\"Value\")\n",
        "    plt.grid(False)\n",
        "\n",
        "def trend(time, slope=0):\n",
        "    return slope * time\n",
        "\n",
        "def seasonal_pattern(season_time):\n",
        "    \"\"\"Just an arbitrary pattern, you can change it if you wish\"\"\"\n",
        "    return np.where(season_time < 0.1,\n",
        "                    np.cos(season_time * 6 * np.pi),\n",
        "                    2 / np.exp(9 * season_time))\n",
        "    '''\n",
        "    return np.where(season_time < 0.1,\n",
        "                    np.cos(season_time * # YOUR CODE HERE # * np.pi),\n",
        "                    #YOUR CODE HERE# / np.exp(#YOUR CODE HERE# * season_time))'''\n",
        "\n",
        "def seasonality(time, period, amplitude=1, phase=0):\n",
        "    \"\"\"Repeats the same pattern at each period\"\"\"\n",
        "    season_time = ((time + phase) % period) / period\n",
        "    return amplitude * seasonal_pattern(season_time)\n",
        "\n",
        "def noise(time, noise_level=1, seed=None):\n",
        "    rnd = np.random.RandomState(seed)\n",
        "    return rnd.randn(len(time)) * noise_level\n",
        "\n",
        "time = np.arange(10 * 365 + 1, dtype=\"float32\")\n",
        "baseline = 10\n",
        "series = trend(time, 0.1)  \n",
        "baseline = 10\n",
        "amplitude = 40\n",
        "slope = 0.005\n",
        "noise_level = 3\n",
        "'''baseline = # YOUR CODE HERE #\n",
        "series = trend(time, # YOUR CODE HERE#)  \n",
        "baseline = 10\n",
        "amplitude = 40\n",
        "slope = # YOUR CODE HERE#\n",
        "noise_level = # YOUR CODE HERE# '''\n",
        "\n",
        "# Create the series\n",
        "series = baseline + trend(time, slope) + seasonality(time, period=365, amplitude=amplitude)\n",
        "# Update with noise\n",
        "series += noise(time, noise_level, seed=51)\n",
        "\n",
        "split_time = 3000\n",
        "time_train = time[:split_time]\n",
        "x_train = series[:split_time]\n",
        "time_valid = time[split_time:]\n",
        "x_valid = series[split_time:]\n",
        "\n",
        "window_size = 20\n",
        "batch_size = 32\n",
        "shuffle_buffer_size = 1000\n",
        "\n",
        "plot_series(time, series)"
      ],
      "execution_count": 9,
      "outputs": [
        {
          "output_type": "display_data",
          "data": {
            "image/png": "[encoded data removed]",
            "text/plain": [
              "<Figure size 432x288 with 1 Axes>"
            ]
          },
          "metadata": {
            "tags": [],
            "needs_background": "light"
          }
        }
      ]
    },
    {
      "cell_type": "markdown",
      "metadata": {
        "colab_type": "text",
        "id": "GfUTNqti_lNC"
      },
      "source": [
        "Desired output -- a chart that looks like this:\n",
        "\n",
        "![Chart showing upward trend and seasonailty](http://www.laurencemoroney.com/wp-content/uploads/2019/07/plot1.png)"
      ]
    },
    {
      "cell_type": "code",
      "metadata": {
        "colab_type": "code",
        "id": "4sTTIOCbyShY",
        "colab": {}
      },
      "source": [
        "def windowed_dataset(series, window_size, batch_size, shuffle_buffer):\n",
        "  dataset = tf.data.Dataset.from_tensor_slices(series)\n",
        "  dataset = dataset.window(window_size + 1, shift=1, drop_remainder=True)\n",
        "  dataset = dataset.flat_map(lambda window: window.batch(window_size + 1))\n",
        "  dataset = dataset.shuffle(shuffle_buffer).map(lambda window: (window[:-1], window[-1]))\n",
        "  dataset = dataset.batch(batch_size).prefetch(1)\n",
        "  return dataset"
      ],
      "execution_count": 10,
      "outputs": []
    },
    {
      "cell_type": "code",
      "metadata": {
        "colab_type": "code",
        "id": "TW-vT7eLYAdb",
        "colab": {
          "base_uri": "https://localhost:8080/",
          "height": 1000
        },
        "outputId": "45b7a6ba-1262-4ca2-c83c-1ac0155e324b"
      },
      "source": [
        "dataset = windowed_dataset(x_train, window_size, batch_size, shuffle_buffer_size)\n",
        "model = tf.keras.models.Sequential([\n",
        "    tf.keras.layers.Dense(100, input_shape=[window_size], activation=\"relu\"), \n",
        "    tf.keras.layers.Dense(10, activation=\"relu\"), \n",
        "    tf.keras.layers.Dense(1)\n",
        "])\n",
        "\n",
        "model.compile(loss=\"mse\", optimizer=tf.keras.optimizers.SGD(lr=1e-6, momentum=0.9))\n",
        "model.fit(dataset,epochs=100,verbose=1)\n",
        "\n",
        "\n",
        "#model = tf.keras.models.Sequential([\n",
        "#    tf.keras.layers.Dense(# YOUR CODE HERE #),\n",
        "#    tf.keras.layers.Dense(# YOUR CODE HERE #, activation=\"relu\"), \n",
        "##    tf.keras.layers.Dense(1)\n",
        "#])\n",
        "\n",
        "#model.compile(loss=# YOUR CODE HERE #, optimizer=# YOUR CODE HERE#))\n",
        "#model.fit(dataset,epochs=100,verbose=0)\n",
        "\n"
      ],
      "execution_count": 17,
      "outputs": [
        {
          "output_type": "stream",
          "text": [
            "Epoch 1/100\n",
            "94/94 [==============================] - 1s 6ms/step - loss: 133.1638\n",
            "Epoch 2/100\n",
            "94/94 [==============================] - 1s 6ms/step - loss: 53.9669\n",
            "Epoch 3/100\n",
            "94/94 [==============================] - 1s 5ms/step - loss: 44.7462\n",
            "Epoch 4/100\n",
            "94/94 [==============================] - 1s 5ms/step - loss: 38.9750\n",
            "Epoch 5/100\n",
            "94/94 [==============================] - 0s 5ms/step - loss: 35.4379\n",
            "Epoch 6/100\n",
            "94/94 [==============================] - 1s 6ms/step - loss: 33.1831\n",
            "Epoch 7/100\n",
            "94/94 [==============================] - 1s 5ms/step - loss: 31.6375\n",
            "Epoch 8/100\n",
            "94/94 [==============================] - 0s 5ms/step - loss: 30.4642\n",
            "Epoch 9/100\n",
            "94/94 [==============================] - 1s 6ms/step - loss: 29.4116\n",
            "Epoch 10/100\n",
            "94/94 [==============================] - 1s 5ms/step - loss: 28.7560\n",
            "Epoch 11/100\n",
            "94/94 [==============================] - 0s 5ms/step - loss: 28.1321\n",
            "Epoch 12/100\n",
            "94/94 [==============================] - 1s 6ms/step - loss: 27.6428\n",
            "Epoch 13/100\n",
            "94/94 [==============================] - 1s 5ms/step - loss: 27.3463\n",
            "Epoch 14/100\n",
            "94/94 [==============================] - 1s 6ms/step - loss: 27.0201\n",
            "Epoch 15/100\n",
            "94/94 [==============================] - 1s 7ms/step - loss: 26.5217\n",
            "Epoch 16/100\n",
            "94/94 [==============================] - 1s 6ms/step - loss: 26.3686\n",
            "Epoch 17/100\n",
            "94/94 [==============================] - 0s 5ms/step - loss: 26.0789\n",
            "Epoch 18/100\n",
            "94/94 [==============================] - 1s 5ms/step - loss: 25.9225\n",
            "Epoch 19/100\n",
            "94/94 [==============================] - 1s 5ms/step - loss: 25.6321\n",
            "Epoch 20/100\n",
            "94/94 [==============================] - 1s 6ms/step - loss: 25.4544\n",
            "Epoch 21/100\n",
            "94/94 [==============================] - 0s 5ms/step - loss: 25.3287\n",
            "Epoch 22/100\n",
            "94/94 [==============================] - 0s 5ms/step - loss: 25.1753\n",
            "Epoch 23/100\n",
            "94/94 [==============================] - 0s 5ms/step - loss: 24.9143\n",
            "Epoch 24/100\n",
            "94/94 [==============================] - 1s 6ms/step - loss: 24.9030\n",
            "Epoch 25/100\n",
            "94/94 [==============================] - 1s 6ms/step - loss: 24.7775\n",
            "Epoch 26/100\n",
            "94/94 [==============================] - 1s 6ms/step - loss: 24.6233\n",
            "Epoch 27/100\n",
            "94/94 [==============================] - 1s 6ms/step - loss: 24.4872\n",
            "Epoch 28/100\n",
            "94/94 [==============================] - 1s 6ms/step - loss: 24.3836\n",
            "Epoch 29/100\n",
            "94/94 [==============================] - 1s 6ms/step - loss: 24.2632\n",
            "Epoch 30/100\n",
            "94/94 [==============================] - 1s 5ms/step - loss: 24.1502\n",
            "Epoch 31/100\n",
            "94/94 [==============================] - 1s 6ms/step - loss: 24.1837\n",
            "Epoch 32/100\n",
            "94/94 [==============================] - 1s 6ms/step - loss: 24.1880\n",
            "Epoch 33/100\n",
            "94/94 [==============================] - 1s 6ms/step - loss: 24.0443\n",
            "Epoch 34/100\n",
            "94/94 [==============================] - 1s 6ms/step - loss: 23.9689\n",
            "Epoch 35/100\n",
            "94/94 [==============================] - 1s 6ms/step - loss: 23.8164\n",
            "Epoch 36/100\n",
            "94/94 [==============================] - 1s 5ms/step - loss: 23.9106\n",
            "Epoch 37/100\n",
            "94/94 [==============================] - 1s 6ms/step - loss: 23.7693\n",
            "Epoch 38/100\n",
            "94/94 [==============================] - 0s 5ms/step - loss: 23.7391\n",
            "Epoch 39/100\n",
            "94/94 [==============================] - 0s 5ms/step - loss: 23.6757\n",
            "Epoch 40/100\n",
            "94/94 [==============================] - 1s 6ms/step - loss: 23.6102\n",
            "Epoch 41/100\n",
            "94/94 [==============================] - 1s 6ms/step - loss: 23.6339\n",
            "Epoch 42/100\n",
            "94/94 [==============================] - 1s 6ms/step - loss: 23.4980\n",
            "Epoch 43/100\n",
            "94/94 [==============================] - 1s 5ms/step - loss: 23.4307\n",
            "Epoch 44/100\n",
            "94/94 [==============================] - 1s 6ms/step - loss: 23.3351\n",
            "Epoch 45/100\n",
            "94/94 [==============================] - 1s 5ms/step - loss: 23.2823\n",
            "Epoch 46/100\n",
            "94/94 [==============================] - 1s 6ms/step - loss: 23.2992\n",
            "Epoch 47/100\n",
            "94/94 [==============================] - 1s 5ms/step - loss: 23.2441\n",
            "Epoch 48/100\n",
            "94/94 [==============================] - 0s 5ms/step - loss: 23.2147\n",
            "Epoch 49/100\n",
            "94/94 [==============================] - 0s 5ms/step - loss: 23.2131\n",
            "Epoch 50/100\n",
            "94/94 [==============================] - 1s 6ms/step - loss: 23.1979\n",
            "Epoch 51/100\n",
            "94/94 [==============================] - 1s 6ms/step - loss: 23.1806\n",
            "Epoch 52/100\n",
            "94/94 [==============================] - 1s 6ms/step - loss: 23.1459\n",
            "Epoch 53/100\n",
            "94/94 [==============================] - 0s 5ms/step - loss: 23.0581\n",
            "Epoch 54/100\n",
            "94/94 [==============================] - 1s 7ms/step - loss: 22.9571\n",
            "Epoch 55/100\n",
            "94/94 [==============================] - 1s 7ms/step - loss: 22.9908\n",
            "Epoch 56/100\n",
            "94/94 [==============================] - 1s 5ms/step - loss: 22.9095\n",
            "Epoch 57/100\n",
            "94/94 [==============================] - 1s 6ms/step - loss: 22.9235\n",
            "Epoch 58/100\n",
            "94/94 [==============================] - 1s 6ms/step - loss: 22.8702\n",
            "Epoch 59/100\n",
            "94/94 [==============================] - 1s 6ms/step - loss: 22.8466\n",
            "Epoch 60/100\n",
            "94/94 [==============================] - 1s 6ms/step - loss: 22.7811\n",
            "Epoch 61/100\n",
            "94/94 [==============================] - 1s 6ms/step - loss: 22.8041\n",
            "Epoch 62/100\n",
            "94/94 [==============================] - 1s 6ms/step - loss: 22.7282\n",
            "Epoch 63/100\n",
            "94/94 [==============================] - 1s 6ms/step - loss: 22.6607\n",
            "Epoch 64/100\n",
            "94/94 [==============================] - 1s 6ms/step - loss: 22.6831\n",
            "Epoch 65/100\n",
            "94/94 [==============================] - 0s 5ms/step - loss: 22.6897\n",
            "Epoch 66/100\n",
            "94/94 [==============================] - 1s 6ms/step - loss: 22.5803\n",
            "Epoch 67/100\n",
            "94/94 [==============================] - 0s 5ms/step - loss: 22.6556\n",
            "Epoch 68/100\n",
            "94/94 [==============================] - 1s 5ms/step - loss: 22.5421\n",
            "Epoch 69/100\n",
            "94/94 [==============================] - 1s 6ms/step - loss: 22.5266\n",
            "Epoch 70/100\n",
            "94/94 [==============================] - 1s 6ms/step - loss: 22.4313\n",
            "Epoch 71/100\n",
            "94/94 [==============================] - 1s 5ms/step - loss: 22.6994\n",
            "Epoch 72/100\n",
            "94/94 [==============================] - 1s 6ms/step - loss: 22.5832\n",
            "Epoch 73/100\n",
            "94/94 [==============================] - 1s 6ms/step - loss: 22.4834\n",
            "Epoch 74/100\n",
            "94/94 [==============================] - 1s 6ms/step - loss: 22.4961\n",
            "Epoch 75/100\n",
            "94/94 [==============================] - 1s 6ms/step - loss: 22.4621\n",
            "Epoch 76/100\n",
            "94/94 [==============================] - 0s 5ms/step - loss: 22.4075\n",
            "Epoch 77/100\n",
            "94/94 [==============================] - 0s 5ms/step - loss: 22.3013\n",
            "Epoch 78/100\n",
            "94/94 [==============================] - 1s 7ms/step - loss: 22.4889\n",
            "Epoch 79/100\n",
            "94/94 [==============================] - 1s 6ms/step - loss: 22.4154\n",
            "Epoch 80/100\n",
            "94/94 [==============================] - 1s 6ms/step - loss: 22.2745\n",
            "Epoch 81/100\n",
            "94/94 [==============================] - 1s 6ms/step - loss: 22.2065\n",
            "Epoch 82/100\n",
            "94/94 [==============================] - 1s 6ms/step - loss: 22.2488\n",
            "Epoch 83/100\n",
            "94/94 [==============================] - 1s 5ms/step - loss: 22.1270\n",
            "Epoch 84/100\n",
            "94/94 [==============================] - 1s 6ms/step - loss: 22.2354\n",
            "Epoch 85/100\n",
            "94/94 [==============================] - 1s 5ms/step - loss: 22.0928\n",
            "Epoch 86/100\n",
            "94/94 [==============================] - 1s 6ms/step - loss: 22.1084\n",
            "Epoch 87/100\n",
            "94/94 [==============================] - 1s 6ms/step - loss: 22.0402\n",
            "Epoch 88/100\n",
            "94/94 [==============================] - 1s 5ms/step - loss: 22.2830\n",
            "Epoch 89/100\n",
            "94/94 [==============================] - 1s 6ms/step - loss: 22.1219\n",
            "Epoch 90/100\n",
            "94/94 [==============================] - 1s 6ms/step - loss: 22.0592\n",
            "Epoch 91/100\n",
            "94/94 [==============================] - 1s 6ms/step - loss: 21.9798\n",
            "Epoch 92/100\n",
            "94/94 [==============================] - 1s 6ms/step - loss: 21.9618\n",
            "Epoch 93/100\n",
            "94/94 [==============================] - 1s 6ms/step - loss: 21.9140\n",
            "Epoch 94/100\n",
            "94/94 [==============================] - 1s 6ms/step - loss: 21.9804\n",
            "Epoch 95/100\n",
            "94/94 [==============================] - 1s 6ms/step - loss: 21.9599\n",
            "Epoch 96/100\n",
            "94/94 [==============================] - 1s 5ms/step - loss: 21.9572\n",
            "Epoch 97/100\n",
            "94/94 [==============================] - 1s 6ms/step - loss: 21.7750\n",
            "Epoch 98/100\n",
            "94/94 [==============================] - 1s 6ms/step - loss: 21.9087\n",
            "Epoch 99/100\n",
            "94/94 [==============================] - 1s 5ms/step - loss: 21.9255\n",
            "Epoch 100/100\n",
            "94/94 [==============================] - 1s 6ms/step - loss: 21.7497\n"
          ],
          "name": "stdout"
        },
        {
          "output_type": "execute_result",
          "data": {
            "text/plain": [
              "<tensorflow.python.keras.callbacks.History at 0x7f68edc36940>"
            ]
          },
          "metadata": {
            "tags": []
          },
          "execution_count": 17
        }
      ]
    },
    {
      "cell_type": "code",
      "metadata": {
        "colab_type": "code",
        "id": "efhco2rYyIFF",
        "colab": {
          "base_uri": "https://localhost:8080/",
          "height": 388
        },
        "outputId": "1e7cecea-2bee-4a56-a84a-89842c740f0f"
      },
      "source": [
        "forecast = []\n",
        "for time in range(len(series) - window_size):\n",
        "  forecast.append(model.predict(series[time:time + window_size][np.newaxis]))\n",
        "\n",
        "forecast = forecast[split_time-window_size:]\n",
        "results = np.array(forecast)[:, 0, 0]\n",
        "\n",
        "\n",
        "plt.figure(figsize=(10, 6))\n",
        "\n",
        "plot_series(time_valid, x_valid)\n",
        "plot_series(time_valid, results)"
      ],
      "execution_count": 18,
      "outputs": [
        {
          "output_type": "display_data",
          "data": {
            "image/png": "[encoded data removed]",
            "text/plain": [
              "<Figure size 720x432 with 1 Axes>"
            ]
          },
          "metadata": {
            "tags": [],
            "needs_background": "light"
          }
        }
      ]
    },
    {
      "cell_type": "code",
      "metadata": {
        "colab_type": "code",
        "id": "-kT6j186YO6K",
        "colab": {
          "base_uri": "https://localhost:8080/",
          "height": 34
        },
        "outputId": "3ecd83e2-9404-49fd-c7d6-5acfda35fa13"
      },
      "source": [
        "tf.keras.metrics.mean_absolute_error(x_valid, results).numpy()\n",
        "# EXPECTED OUTPUT\n",
        "# A Value less than 3"
      ],
      "execution_count": 19,
      "outputs": [
        {
          "output_type": "execute_result",
          "data": {
            "text/plain": [
              "3.0428324"
            ]
          },
          "metadata": {
            "tags": []
          },
          "execution_count": 19
        }
      ]
    }
  ]
}